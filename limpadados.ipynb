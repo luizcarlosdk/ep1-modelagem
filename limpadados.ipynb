{
 "cells": [
  {
   "cell_type": "code",
   "execution_count": 1,
   "id": "e950bc1d",
   "metadata": {},
   "outputs": [],
   "source": [
    "# Este primeiro código servirá para limpar os dados do JSON obtido no karthaview chamados: trajetoBrasil.json e\n",
    "# trajetoExterior.json\n",
    "\n",
    "import matplotlib.pyplot as plt\n",
    "\n",
    "from datetime import datetime\n",
    "import json\n",
    "\n",
    "import numpy as np\n",
    "\n",
    "from pyproj import Proj, transform"
   ]
  },
  {
   "cell_type": "code",
   "execution_count": 2,
   "id": "d3f68b39",
   "metadata": {},
   "outputs": [],
   "source": [
    "brasil = \"trajetoBrasil.json\"\n",
    "\n",
    "with open(brasil, \"r\") as f:\n",
    "    pontos = f.read()\n",
    "    pontos = json.loads(pontos)"
   ]
  },
  {
   "cell_type": "code",
   "execution_count": 3,
   "id": "8be40cac",
   "metadata": {},
   "outputs": [
    {
     "name": "stdout",
     "output_type": "stream",
     "text": [
      "Chaves na raiz - \n",
      "dict_keys(['status', 'osv'])\n",
      "\n",
      "Chaves do objeto na chave 'status' - \n",
      "dict_keys(['apiCode', 'apiMessage', 'httpCode', 'httpMessage'])\n",
      "\n",
      "Chaves do objeto na chave 'osv' - \n",
      "dict_keys(['date_added', 'platform', 'user', 'user_id', 'meta_data_filename', 'address', 'country_code', 'reviewed', 'distance', 'changed', 'obd_info', 'count_active_photos', 'recognitions', 'client_total', 'is_rotating', 'cameraParameters', 'deviceName', 'owner', 'upload_history', 'photos'])\n"
     ]
    }
   ],
   "source": [
    "print(f\"Chaves na raiz - \\n{pontos.keys()}\\n\")\n",
    "print(f\"Chaves do objeto na chave 'status' - \\n{pontos['status'].keys()}\\n\")\n",
    "print(f\"Chaves do objeto na chave 'osv' - \\n{pontos['osv'].keys()}\")"
   ]
  },
  {
   "cell_type": "code",
   "execution_count": 4,
   "id": "2b274543",
   "metadata": {},
   "outputs": [
    {
     "data": {
      "text/plain": [
       "{'id': '299154711',\n",
       " 'sequence_id': '1277785',\n",
       " 'sequence_index': '0',\n",
       " 'lat': '-23.478435',\n",
       " 'lng': '-46.529365',\n",
       " 'fileName': '1277785_45b78_0.jpg',\n",
       " 'name': 'storage9/files/photo/2018/8/13/proc/1277785_45b78_0.jpg',\n",
       " 'lth_name': 'storage9/files/photo/2018/8/13/lth/1277785_45b78_0.jpg',\n",
       " 'th_name': 'storage9/files/photo/2018/8/13/th/1277785_45b78_0.jpg',\n",
       " 'path': '2018/8/13',\n",
       " 'date_added': '2018-08-13  (03:34)',\n",
       " 'timestamp': '1534131292',\n",
       " 'way_id': '56202923',\n",
       " 'match_lat': '-23.478397369384766',\n",
       " 'match_lng': '-46.529392242431640',\n",
       " 'heading': None,\n",
       " 'headers': None,\n",
       " 'gps_accuracy': '7.8000',\n",
       " 'storage': 'storage9',\n",
       " 'shot_date': '2018-07-20 14:29:10',\n",
       " 'projection': 'PLANE',\n",
       " 'field_of_view': None,\n",
       " 'is_unwrapped': '0',\n",
       " 'unwrap_version': '0',\n",
       " 'width': '3072',\n",
       " 'height': '1728',\n",
       " 'cameraParameters': None,\n",
       " 'hasDepth': False}"
      ]
     },
     "execution_count": 4,
     "metadata": {},
     "output_type": "execute_result"
    }
   ],
   "source": [
    "# Exemplo de um objeto na chave 'photos':\n",
    "pontos['osv']['photos'][0]"
   ]
  },
  {
   "cell_type": "code",
   "execution_count": 4,
   "id": "965fc770",
   "metadata": {},
   "outputs": [],
   "source": [
    "from photos_extract import make_extract_photos_JSON, get_photo_array_positions, clean_extracted\n",
    "\n",
    "jsonfile = 'trajetoBrasil.json'\n",
    "\n",
    "extracted_filename = \"extracted_\" + jsonfile\n",
    "cleaned_filename = \"cleaned_\" + jsonfile\n",
    "\n",
    "with open(jsonfile, \"r\") as jf:\n",
    "        # Aqui o array 'photos' é extraído e colocado \n",
    "        # em outro arquivo (com o prefixo extracted_),\n",
    "        # para facilitar o processamento do array.\n",
    "        #\n",
    "        # Em seguida usamos a função clean_extracted para\n",
    "        # criar um terceiro arquivo (com prefixo _cleaned)\n",
    "        # que contenha somente os campos de interesse para\n",
    "        # a análise.\n",
    "        txt = jf.read()\n",
    "        extracted_str = make_extract_photos_JSON(extracted_filename, txt)\n",
    "\n",
    "        with open(cleaned_filename, \"w\") as cjf:\n",
    "            cjf.write(clean_extracted(extracted_str))\n",
    "\n",
    "jsonfile = 'trajetoExterior.json'\n",
    "extracted_filename = \"extracted_\" + jsonfile\n",
    "cleaned_filename = \"cleaned_\" + jsonfile\n",
    "\n",
    "\n",
    "with open(jsonfile, \"r\") as jf:\n",
    "        # Aqui o array 'photos' é extraído e colocado \n",
    "        # em outro arquivo (com o prefixo extracted_),\n",
    "        # para facilitar o processamento do array.\n",
    "        #\n",
    "        # Em seguida usamos a função clean_extracted para\n",
    "        # criar um terceiro arquivo (com prefixo _cleaned)\n",
    "        # que contenha somente os campos de interesse para\n",
    "        # a análise.\n",
    "        txt = jf.read()\n",
    "        extracted_str = make_extract_photos_JSON(extracted_filename, txt)\n",
    "\n",
    "        with open(cleaned_filename, \"w\") as cjf:\n",
    "            cjf.write(clean_extracted(extracted_str))\n"
   ]
  },
  {
   "cell_type": "code",
   "execution_count": null,
   "id": "cdb14d35",
   "metadata": {},
   "outputs": [],
   "source": []
  }
 ],
 "metadata": {
  "kernelspec": {
   "display_name": "Python 3",
   "language": "python",
   "name": "python3"
  },
  "language_info": {
   "codemirror_mode": {
    "name": "ipython",
    "version": 3
   },
   "file_extension": ".py",
   "mimetype": "text/x-python",
   "name": "python",
   "nbconvert_exporter": "python",
   "pygments_lexer": "ipython3",
   "version": "3.8.5"
  }
 },
 "nbformat": 4,
 "nbformat_minor": 5
}
